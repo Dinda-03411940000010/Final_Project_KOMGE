{
 "cells": [
  {
   "cell_type": "code",
   "execution_count": 1,
   "metadata": {},
   "outputs": [],
   "source": [
    "import numpy as np\n",
    "import pandas as pd\n",
    "import os\n",
    "import matplotlib.pyplot as plt\n",
    "\n",
    "%pwd\n",
    "%matplotlib notebook"
   ]
  },
  {
   "cell_type": "code",
   "execution_count": 2,
   "metadata": {},
   "outputs": [],
   "source": [
    "SEGY_ASCII_REEL_HEADER_BYTES=3200"
   ]
  },
  {
   "cell_type": "code",
   "execution_count": 3,
   "metadata": {},
   "outputs": [
    {
     "name": "stdout",
     "output_type": "stream",
     "text": [
      "                  Description (Type, Number of Bytes)\n",
      "0                         Job                (>i4, 0)\n",
      "1                        Line                (>i4, 4)\n",
      "2                        Reel                (>i4, 8)\n",
      "3        DataTracePerEnsemble               (>i2, 12)\n",
      "4   AuxiliaryTracePerEnsemble               (>i2, 14)\n",
      "5                          dt               (>u2, 16)\n",
      "6                      dtOrig               (>u2, 18)\n",
      "7                          ns               (>u2, 20)\n",
      "8                      nsOrig               (>u2, 22)\n",
      "9            DataSampleFormat               (>i2, 24)\n",
      "10               EnsembleFold               (>i2, 26)\n",
      "11               TraceSorting               (>i2, 28)\n",
      "12            VerticalSumCode               (>i2, 30)\n",
      "13        SweepFrequencyStart               (>i2, 32)\n",
      "14          SweepFrequencyEnd               (>i2, 34)\n",
      "15                SweepLength               (>i2, 36)\n",
      "16                  SweepType               (>i2, 38)\n",
      "17               SweepChannel               (>i2, 40)\n",
      "18      SweepTaperlengthStart               (>i2, 42)\n",
      "19        SweepTaperLengthEnd               (>i2, 44)\n",
      "20                  TaperType               (>i2, 46)\n",
      "21       CorrelatedDataTraces               (>i2, 48)\n",
      "22                 BinaryGain               (>i2, 50)\n",
      "23    AmplitudeRecoveryMethod               (>i2, 52)\n",
      "24          MeasurementSystem               (>i2, 54)\n",
      "25      ImpulseSignalPolarity               (>i2, 56)\n",
      "26      VibratoryPolarityCode               (>i2, 58)\n"
     ]
    }
   ],
   "source": [
    "\n",
    "VOLUME_HEADER_TYPE = np.dtype([('Job', '>i4'),\\\n",
    "                            ('Line', '>i4'),\\\n",
    "                            ('Reel', '>i4'),\\\n",
    "                            ('DataTracePerEnsemble', '>i2'),\\\n",
    "                            ('AuxiliaryTracePerEnsemble', '>i2'),\\\n",
    "                            ('dt', '>u2'),\\\n",
    "                            ('dtOrig', '>u2'),\\\n",
    "                            ('ns', '>u2'),\\\n",
    "                            ('nsOrig', '>u2'),\\\n",
    "                            ('DataSampleFormat', '>i2'),\\\n",
    "                            ('EnsembleFold', '>i2'),\\\n",
    "                            ('TraceSorting', '>i2'),\\\n",
    "                            ('VerticalSumCode', '>i2'),\\\n",
    "                            ('SweepFrequencyStart', '>i2'),\\\n",
    "                            ('SweepFrequencyEnd', '>i2'),\\\n",
    "                            ('SweepLength', '>i2'),\\\n",
    "                            ('SweepType', '>i2'),\\\n",
    "                            ('SweepChannel', '>i2'),\\\n",
    "                            ('SweepTaperlengthStart', '>i2'),\\\n",
    "                            ('SweepTaperLengthEnd', '>i2'),\\\n",
    "                            ('TaperType', '>i2'),\\\n",
    "                            ('CorrelatedDataTraces', '>i2'),\\\n",
    "                            ('BinaryGain', '>i2'),\\\n",
    "                            ('AmplitudeRecoveryMethod', '>i2'),\\\n",
    "                            ('MeasurementSystem', '>i2'),\\\n",
    "                            ('ImpulseSignalPolarity', '>i2'),\\\n",
    "                            ('VibratoryPolarityCode', '>i2')                            \n",
    "                            ])\n",
    "\n",
    "\n",
    "    \n",
    "print(pd.DataFrame(list(VOLUME_HEADER_TYPE.fields.items()),columns=['Description','(Type, Number of Bytes)']))"
   ]
  },
  {
   "cell_type": "code",
   "execution_count": 4,
   "metadata": {},
   "outputs": [
    {
     "name": "stdout",
     "output_type": "stream",
     "text": [
      "                  Description (Type, Number of Bytes)\n",
      "0           TraceSequenceLine                (>i4, 0)\n",
      "1                 TraceNumber                (>i4, 4)\n",
      "2                 FieldRecord                (>i4, 8)\n",
      "3           TraceSequenceFile               (>i4, 12)\n",
      "4           EnergySourcePoint               (>i4, 16)\n",
      "..                        ...                     ...\n",
      "86  SourceMeasurementMantissa              (>i4, 224)\n",
      "87  SourceMeasurementExponent              (>u2, 228)\n",
      "88      SourceMeasurementUnit              (>u2, 230)\n",
      "89             UnassignedInt1              (>i4, 232)\n",
      "90             UnassignedInt2              (>i4, 236)\n",
      "\n",
      "[91 rows x 2 columns]\n"
     ]
    }
   ],
   "source": [
    "\n",
    "TRACES_HEADER_TYPE = np.dtype( [ ('TraceSequenceLine' , '>i4'), \\\n",
    "                                ('TraceNumber' , '>i4'), \\\n",
    "                                ('FieldRecord' , '>i4'), \\\n",
    "                                 ('TraceSequenceFile' , '>i4'),\\\n",
    "                                 ('EnergySourcePoint' , '>i4'), \\\n",
    "                                 ('cdp' , '>i4'), \\\n",
    "                                ('cdpTrace' , '>i4'), \\\n",
    "                                ('TraceIdentificationCode' , '>u2'), \\\n",
    "                                ('NSummedTraces' , '>u2'), \\\n",
    "                                ('NStackedTraces' , '>u2'), \\\n",
    "                                ('DataUse' , '>u2'),\\\n",
    "                                ('offset' , '>i4'), \\\n",
    "                                ('ReceiverGroupElevation' , '>i4'), \\\n",
    "                                ('SourceSurfaceElevation' , '>i4'), \\\n",
    "                                ('SourceDepth' , '>i4'), \\\n",
    "                                ('ReceiverDatumElevation' , '>i4'), \\\n",
    "                                ('SourceDatumElevation' , '>i4'), \\\n",
    "                                ('SourceWaterDepth' , '>i4'), \\\n",
    "                                ('GroupWaterDepth' , '>i4'),\\\n",
    "                                ('ElevationScalar' , '>i2'), \\\n",
    "                                ('SourceGroupScalar' , '>i2'), \\\n",
    "                                ('SourceX' , '>i4'), \\\n",
    "                                ('SourceY' , '>i4'), \\\n",
    "                                ('GroupX' , '>i4'), \\\n",
    "                                ('GroupY' , '>i4'), \\\n",
    "                                ('CoordinateUnits' , '>u2'),\\\n",
    "                                ('WeatheringVelocity' , '>u2'), \\\n",
    "                                ('SubWeatheringVelocity' , '>u2'), \\\n",
    "                                ('SourceUpholeTime' , '>u2'), \\\n",
    "                                ('GroupUpholeTime' , '>u2'), \\\n",
    "                                ('SourceStaticCorrection' , '>u2'), \\\n",
    "                                ('GroupStaticCorrection' , '>u2'), \\\n",
    "                                ('TotalStaticApplied' , '>u2'), \\\n",
    "                                ('LagTimeA' , '>i2'), \\\n",
    "                                ('LagTimeB' , '>i2'), \\\n",
    "                                ('DelayRecordingTime' , '>i2'), \\\n",
    "                                ('MuteTimeStart' , '>u2'), \\\n",
    "                                ('MuteTimeEND' , '>u2'), \\\n",
    "                                ('ns' , '>u2'), \\\n",
    "                                ('dt' , '>u2'), \\\n",
    "                                ('GainType' , '>u2'), \\\n",
    "                                ('InstrumentGainConstant' , '>u2'), \\\n",
    "                                ('InstrumentInitialGain' , '>u2'), \\\n",
    "                                ('Correlated' , '>u2'), \\\n",
    "                                ('SweepFrequenceStart' , '>u2'), \\\n",
    "                                ('SweepFrequenceEnd' , '>u2'), \\\n",
    "                                ('SweepLength' , '>u2'), \\\n",
    "                                ('SweepType' , '>u2'), \\\n",
    "                                ('SweepTraceTaperLengthStart' , '>u2'), \\\n",
    "                                ('SweepTraceTaperLengthEnd' , '>u2'), \\\n",
    "                                ('TaperType' , '>u2'), \\\n",
    "                                ('AliasFilterFrequency' , '>u2'), \\\n",
    "                                ('AliasFilterSlope' , '>u2'), \\\n",
    "                                ('NotchFilterFrequency' , '>u2'), \\\n",
    "                                ('NotchFilterSlope' , '>u2'), \\\n",
    "                                ('LowCutFrequency' , '>u2'), \\\n",
    "                                ('HighCutFrequency' , '>u2'), \\\n",
    "                                ('LowCutSlope' , '>u2'), \\\n",
    "                                ('HighCutSlope' , '>u2'), \\\n",
    "                                ('YearDataRecorded' , '>u2'), \\\n",
    "                                ('DayOfYear' , '>u2'), \\\n",
    "                                ('HourOfDay' , '>u2'), \\\n",
    "                                ('MinuteOfHour' , '>u2'), \\\n",
    "                                ('SecondOfMinute' , '>u2'), \\\n",
    "                                ('TimeBaseCode' , '>u2'), \\\n",
    "                                ('TraceWeightningFactor' , '>u2'), \\\n",
    "                                ('GeophoneGroupNumberRoll1' , '>u2'), \\\n",
    "                                ('GeophoneGroupNumberFirstTraceOrigField' , '>u2'), \\\n",
    "                                ('GeophoneGroupNumberLastTraceOrigField' , '>u2'), \\\n",
    "                                ('GapSize' , '>u2'), \\\n",
    "                                ('OverTravel' , '>u2'),\\\n",
    "                                ('cdpX' , '>i4'),\\\n",
    "                                ('cdpY' , '>i4'),\\\n",
    "                                ('Inline3D' , '>i4'),\\\n",
    "                                ('Crossline3D' , '>i4'),\\\n",
    "                                ('ShotPoint' , '>i4'),\\\n",
    "                                ('ShotPointScalar' , '>i2'),\\\n",
    "                                ('TraceValueMeasurementUnit' , '>u2'),\\\n",
    "                                ('TransductionConstantMantissa' , '>i4'),\\\n",
    "                                ('TransductionConstantPower' , '>u2'),\\\n",
    "                                ('TransductionUnit' , '>u2'),\\\n",
    "                                ('TraceIdentifier' , '>u2'),\\\n",
    "                                ('ScalarTraceHeader' , '>i2'),\\\n",
    "                                ('SourceType' , '>u2'),\\\n",
    "                                ('SourceEnergyDirectionMantissa' , '>i4'),\\\n",
    "                                ('SourceEnergyDirectionExponent' , '>u2'),\\\n",
    "                                ('SourceMeasurementMantissa' , '>i4'),\\\n",
    "                                ('SourceMeasurementExponent' , '>u2'),\\\n",
    "                                ('SourceMeasurementUnit' , '>u2'),\\\n",
    "                                ('UnassignedInt1' , '>i4'),\\\n",
    "                                ('UnassignedInt2' , '>i4')])\n",
    "    \n",
    "print(pd.DataFrame(list(TRACES_HEADER_TYPE.fields.items()),columns=['Description','(Type, Number of Bytes)']))\n"
   ]
  },
  {
   "cell_type": "code",
   "execution_count": 5,
   "metadata": {},
   "outputs": [],
   "source": [
    "ROOT = 'D:\\ITS\\KomGe\\Programming-Geophysics-In-Python-master\\C_SeismicDataProcessing\\Datasets'"
   ]
  },
  {
   "cell_type": "code",
   "execution_count": 6,
   "metadata": {},
   "outputs": [],
   "source": [
    "SEGY_ASCII_REEL_HEADER_BYTES=3200\n",
    "SEGY_ASCII_REEL_HEADER_RECORD_BYTES=80\n",
    "SEGY_BIN_REEL_HEADER_BYTES=400\n",
    "\n",
    "\n",
    "TRACES_TRACE_TYPE =  np.dtype('>f4')\n",
    "TRACES_TRACE_TYPE.newbyteorder('>')\n",
    "TRACES_HEADER_TYPE.newbyteorder('>')\n",
    "\n",
    "TRACES_HEADER_BYTES = TRACES_HEADER_TYPE.itemsize\n",
    "TRACES_TRACE_BYTES = TRACES_TRACE_TYPE.itemsize\n",
    "\n",
    "\n",
    "def readSegy(filename):\n",
    "    fs=open(filename,'rb')\n",
    "    vheaders=[] # volume header\n",
    "    theaders = [] # trace header\n",
    "    traces=[] # trace data\n",
    "    nt=0\n",
    "    \n",
    "    # Read in 400-byte volume header\n",
    "    # first we need to jump over the textual headers:    \n",
    "    fs.seek(SEGY_ASCII_REEL_HEADER_BYTES)  \n",
    "    l=fs.read(60) # only read in the first 60-byte valuable information\n",
    "    if len(l) == 60:\n",
    "        rec=np.frombuffer(l, VOLUME_HEADER_TYPE)\n",
    "        vheaders.append(rec)\n",
    "        \n",
    "    # Read in 240-byte traxce header and trace data   \n",
    "    fs.seek(0)  \n",
    "    fs.seek(SEGY_ASCII_REEL_HEADER_BYTES + SEGY_BIN_REEL_HEADER_BYTES)\n",
    "    \n",
    "    \n",
    "    while True:\n",
    "        l=fs.read(TRACES_HEADER_BYTES)\n",
    "        if len(l) == TRACES_HEADER_BYTES:\n",
    "            rec=np.frombuffer(l, TRACES_HEADER_TYPE)\n",
    "            ns=rec['ns'][0]\n",
    "            #print(ns)\n",
    "            trcstr=fs.read(ns *TRACES_TRACE_BYTES )\n",
    "            theaders.append(rec)\n",
    "            traces.append(np.frombuffer( trcstr, TRACES_TRACE_TYPE ))\n",
    "            nt+=1\n",
    "        else:\n",
    "            break\n",
    "    print(\"%s record read.\"%nt)\n",
    "\n",
    "    vheaders=np.stack(vheaders).reshape(-1)\n",
    "    theaders=np.stack(theaders).reshape(-1)\n",
    "    traces=np.stack(traces, axis = 1)\n",
    "    \n",
    "    # convert headers to dict\n",
    "    vhead = {}\n",
    "    for key in VOLUME_HEADER_TYPE.names:        \n",
    "\n",
    "        vhead[key] = vheaders[key][0]\n",
    "        \n",
    "    thead = {}\n",
    "    for key in TRACES_HEADER_TYPE.names:        \n",
    "\n",
    "        thead[key] = theaders[key]\n",
    "        \n",
    "    return traces, vhead, thead\n"
   ]
  },
  {
   "cell_type": "code",
   "execution_count": 7,
   "metadata": {},
   "outputs": [
    {
     "name": "stdout",
     "output_type": "stream",
     "text": [
      "Reading SEG-Y file in process...\n",
      "121 record read.\n",
      "Reading SEG-Y file completed[OK]\n",
      ".\n",
      "Total number of traces:       121\n",
      "Number of samples per trace:  463\n",
      "Sampling rate:                0.004 s\n"
     ]
    }
   ],
   "source": [
    "segy_file = os.path.join(ROOT,'F3_very_small.sgy')\n",
    "\n",
    "print('Reading SEG-Y file in process...')\n",
    "traces, volume_header, trace_header = readSegy(segy_file)\n",
    "print('Reading SEG-Y file completed[OK]\\n.')\n",
    "\n",
    "ns, ntr = traces.shape\n",
    "print('Total number of traces:      ', ntr)\n",
    "print('Number of samples per trace: ', ns)\n",
    "\n",
    "dt = volume_header['dt']/1e6 # unit is seconds\n",
    "print('Sampling rate:               ', dt, 's')"
   ]
  },
  {
   "cell_type": "code",
   "execution_count": 8,
   "metadata": {},
   "outputs": [
    {
     "name": "stdout",
     "output_type": "stream",
     "text": [
      "Inline range:         200  -  210\n",
      "Crossline range:      400  -  410\n",
      "X-coordinate range:   6082578  -  6085146\n",
      "Y-coordinate range:   60761252  -  60763821\n"
     ]
    }
   ],
   "source": [
    "inlines = trace_header['FieldRecord']\n",
    "xlines = trace_header['cdp']\n",
    "sx = trace_header['SourceX']\n",
    "sy = trace_header['SourceY']\n",
    "\n",
    "print('Inline range:        ', inlines.min(), ' - ', inlines.max())\n",
    "print('Crossline range:     ', xlines.min(), ' - ', xlines.max())\n",
    "print('X-coordinate range:  ', sx.min(), ' - ', sx.max())\n",
    "print('Y-coordinate range:  ', sy.min(), ' - ', sy.max())"
   ]
  },
  {
   "cell_type": "code",
   "execution_count": 9,
   "metadata": {},
   "outputs": [
    {
     "data": {
      "image/png": "[encoded data removed]",
      "text/plain": [
       "<Figure size 432x288 with 1 Axes>"
      ]
     },
     "metadata": {
      "needs_background": "light"
     },
     "output_type": "display_data"
    }
   ],
   "source": [
    "fig, ax = plt.subplots(1,1, figsize=(6, 4))\n",
    "ax.scatter(sx, sy)\n",
    "ax.set_title('Map view of seismic survey')\n",
    "plt.show()"
   ]
  },
  {
   "cell_type": "code",
   "execution_count": 10,
   "metadata": {},
   "outputs": [
    {
     "data": {
      "image/png": "[encoded data removed]",
      "text/plain": [
       "<Figure size 720x720 with 1 Axes>"
      ]
     },
     "metadata": {
      "needs_background": "light"
     },
     "output_type": "display_data"
    }
   ],
   "source": [
    "# find trace indices that belong to Inline 425\n",
    "inds = np.where(inlines == 205)[0]\n",
    "\n",
    "# extract traces\n",
    "\n",
    "section = traces[:, inds]\n",
    "\n",
    "# for plot ticks and labels\n",
    "xls = xlines[inds]\n",
    "xticks = np.linspace(0, len(xls),5)\n",
    "xlabels = np.linspace(xls.min(), xls.max(),5).astype('str')\n",
    "t = np.arange(0,dt * ns + dt, dt)\n",
    "yticks = np.linspace(0, len(t),5)\n",
    "ylabels = np.linspace(0, t.max(),5).astype('str')\n",
    "\n",
    "# plot seismic section\n",
    "fig, ax = plt.subplots(1,1, figsize=(10, 10))\n",
    "ax.imshow(section, cmap = 'seismic') # 'seismic' or 'gray'\n",
    "ax.set_xticks(xticks)\n",
    "ax.set_xticklabels(xlabels.tolist())\n",
    "ax.set_yticks(yticks)\n",
    "ax.set_yticklabels(ylabels.tolist())\n",
    "ax.set_xlabel('Crossline No.')\n",
    "ax.set_ylabel('Time [s]')\n",
    "ax.set_title('Seismic Section [Inline 205]')\n",
    "plt.show()"
   ]
  },
  {
   "cell_type": "code",
   "execution_count": 11,
   "metadata": {},
   "outputs": [],
   "source": [
    "il_range = [200, 210] # inline range\n",
    "xl_range = [400, 410] # xline range\n",
    "z = 1500 # time value, unit is ms"
   ]
  },
  {
   "cell_type": "code",
   "execution_count": 12,
   "metadata": {},
   "outputs": [],
   "source": [
    "# helper func\n",
    "import numpy as np\n",
    "def find_commons(aa, bb):\n",
    "\n",
    "    a = aa.copy()\n",
    "    b = bb.copy()   \n",
    "\n",
    "    commons = set(a)&set(b)            \n",
    "\n",
    "    sorter = np.argsort(aa)\n",
    "    a_inds = sorter[np.searchsorted(aa, np.array(list(commons)), sorter=sorter)]\n",
    "   \n",
    "    sorter = np.argsort(bb)\n",
    "    b_inds = sorter[np.searchsorted(bb, np.array(list(commons)), sorter=sorter)]\n",
    "\n",
    "    \n",
    "    return a_inds, b_inds"
   ]
  },
  {
   "cell_type": "code",
   "execution_count": 13,
   "metadata": {},
   "outputs": [],
   "source": [
    "def extractSlice(data, th, il_range, xl_range, nsample):\n",
    "    \n",
    "    inlines = th['FieldRecord']\n",
    "    xlines = th['cdp']\n",
    "    \n",
    "    # find out all inline indices and xline indices that are located within ranges\n",
    "    il_indices =  np.where((inlines >= il_range[0]) & (inlines<= il_range[1]))[0]\n",
    "    xl_indices =  np.where((xlines >= xl_range[0]) & (xlines<= xl_range[1]))[0]\n",
    "    \n",
    "   \n",
    "    # find out all indices of inline-xline pair\n",
    "    il_inds, xl_inds = find_commons(il_indices, xl_indices)\n",
    "    \n",
    "    # get the inds of inline-xline pair\n",
    "    inds = il_indices[il_inds]\n",
    "    \n",
    "    # get all traces that of inline-xline pair\n",
    "    traces = data[:, inds] # 1D numpy array\n",
    "    \n",
    "    # get the slice data as 2D numpy array\n",
    "    nil = il_range[1] - il_range[0] + 1 # number of inlines\n",
    "    nxl = xl_range[1] - xl_range[0] + 1 # number of xlines\n",
    "    \n",
    "    slices = traces[nsample, :].reshape(nil, nxl)\n",
    "    \n",
    "    return slices "
   ]
  },
  {
   "cell_type": "code",
   "execution_count": 14,
   "metadata": {},
   "outputs": [
    {
     "name": "stdout",
     "output_type": "stream",
     "text": [
      "Sampling point to be extracted at:  375\n"
     ]
    }
   ],
   "source": [
    "nsample = int(np.floor(z/(dt*1000))) # calc which sample point to extract according to given time value in microsecond\n",
    "print('Sampling point to be extracted at: ', nsample)\n",
    "slices = extractSlice(traces, trace_header, il_range, xl_range, nsample)"
   ]
  },
  {
   "cell_type": "code",
   "execution_count": 15,
   "metadata": {},
   "outputs": [
    {
     "data": {
      "image/png": "[encoded data removed]",
      "text/plain": [
       "<Figure size 720x720 with 1 Axes>"
      ]
     },
     "metadata": {
      "needs_background": "light"
     },
     "output_type": "display_data"
    }
   ],
   "source": [
    "# for plot ticks and labels\n",
    "nil, nxl = slices.shape\n",
    "\n",
    "xticks = np.linspace(0, nil, 5)\n",
    "xlabels = np.linspace(il_range[0], il_range[1], 5).astype('str')\n",
    "yticks = np.linspace(0, nxl, 5)\n",
    "ylabels = np.linspace(xl_range[0], xl_range[1], 5).astype('str')\n",
    "\n",
    "# plot seismic section\n",
    "fig, ax = plt.subplots(1,1, figsize=(10, 10))\n",
    "im = ax.imshow(slices, cmap = 'seismic') # 'seismic' or 'gray'\n",
    "ax.set_xticks(xticks)\n",
    "ax.set_xticklabels(xlabels.tolist())\n",
    "ax.set_yticks(yticks)\n",
    "ax.set_yticklabels(ylabels.tolist())\n",
    "ax.set_xlabel('Crossline No.')\n",
    "ax.set_ylabel('Inline No.')\n",
    "ax.set_title('Time Slice [1500 ms]')\n",
    "ax.invert_yaxis()\n",
    "plt.show()\n"
   ]
  },
  {
   "cell_type": "code",
   "execution_count": null,
   "metadata": {},
   "outputs": [],
   "source": []
  }
 ],
 "metadata": {
  "kernelspec": {
   "display_name": "Python 3",
   "language": "python",
   "name": "python3"
  },
  "language_info": {
   "codemirror_mode": {
    "name": "ipython",
    "version": 3
   },
   "file_extension": ".py",
   "mimetype": "text/x-python",
   "name": "python",
   "nbconvert_exporter": "python",
   "pygments_lexer": "ipython3",
   "version": "3.7.4"
  }
 },
 "nbformat": 4,
 "nbformat_minor": 2
}
